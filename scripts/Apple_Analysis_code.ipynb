{
 "cells": [
  {
   "cell_type": "code",
   "execution_count": 0,
   "metadata": {
    "application/vnd.databricks.v1+cell": {
     "cellMetadata": {
      "byteLimit": 2048000,
      "rowLimit": 10000
     },
     "inputWidgets": {},
     "nuid": "4155645d-55c1-419e-81cc-79337e4d0852",
     "showTitle": false,
     "tableResultSettingsMap": {},
     "title": ""
    }
   },
   "outputs": [],
   "source": [
    "%run \"./Reader_Factory\""
   ]
  },
  {
   "cell_type": "code",
   "execution_count": 0,
   "metadata": {
    "application/vnd.databricks.v1+cell": {
     "cellMetadata": {
      "byteLimit": 2048000,
      "rowLimit": 10000
     },
     "inputWidgets": {},
     "nuid": "c46ecf8c-ee53-4f53-981f-837d972f6cf6",
     "showTitle": false,
     "tableResultSettingsMap": {},
     "title": ""
    }
   },
   "outputs": [],
   "source": [
    "%run \"./Transform\""
   ]
  },
  {
   "cell_type": "code",
   "execution_count": 0,
   "metadata": {
    "application/vnd.databricks.v1+cell": {
     "cellMetadata": {
      "byteLimit": 2048000,
      "rowLimit": 10000
     },
     "inputWidgets": {},
     "nuid": "55c32d35-8888-40a9-bf5f-ac204586519a",
     "showTitle": false,
     "tableResultSettingsMap": {},
     "title": ""
    }
   },
   "outputs": [],
   "source": [
    "%run \"./Extractor\""
   ]
  },
  {
   "cell_type": "code",
   "execution_count": 0,
   "metadata": {
    "application/vnd.databricks.v1+cell": {
     "cellMetadata": {
      "byteLimit": 2048000,
      "rowLimit": 10000
     },
     "inputWidgets": {},
     "nuid": "f952c259-1732-4462-a8c8-988824d3af27",
     "showTitle": false,
     "tableResultSettingsMap": {},
     "title": ""
    }
   },
   "outputs": [],
   "source": [
    "%run \"./Loader\""
   ]
  },
  {
   "cell_type": "code",
   "execution_count": 0,
   "metadata": {
    "application/vnd.databricks.v1+cell": {
     "cellMetadata": {
      "byteLimit": 2048000,
      "rowLimit": 10000
     },
     "inputWidgets": {},
     "nuid": "9d2d8f48-4efb-466d-a792-19f2117183ac",
     "showTitle": false,
     "tableResultSettingsMap": {},
     "title": ""
    }
   },
   "outputs": [],
   "source": [
    "class Workflow1:\n",
    "    \"\"\"\n",
    "    ETL pipeline for customers who bought airpods after iphone\n",
    "    \"\"\"\n",
    "    def __init__(self):\n",
    "        pass\n",
    "    def runner(self):\n",
    "        #Step 1 : Extract all different data from different source\n",
    "        inputDFs=AirpodsAfterIphoneExtractor().extract()\n",
    "\n",
    "\n",
    "\n",
    "        # Step 2: Implement te trasformation logic\n",
    "        firstTransformer = AirpodsAfterIphone().transform(inputDFs)\n",
    "        print(firstTransformer)\n",
    "      \n",
    "\n",
    "        #Load all reuquired data to different\n",
    "        AirPodsAfterIphoneLoader(firstTransformer).sink()\n"
   ]
  },
  {
   "cell_type": "code",
   "execution_count": 0,
   "metadata": {
    "application/vnd.databricks.v1+cell": {
     "cellMetadata": {
      "byteLimit": 2048000,
      "rowLimit": 10000
     },
     "inputWidgets": {},
     "nuid": "25e09da2-5b3a-43b2-a0e6-d55f83fa6f73",
     "showTitle": false,
     "tableResultSettingsMap": {},
     "title": ""
    }
   },
   "outputs": [],
   "source": [
    "class Workflow2:\n",
    "    \"\"\"\n",
    "    ETL pipeline for customers who bought only iphones and airpods\n",
    "    \"\"\"\n",
    "    def __init__(self):\n",
    "        pass\n",
    "    def runner(self):\n",
    "        #Step 1 : Extract all different data from different source\n",
    "        inputDFs=AirpodsAfterIphoneExtractor().extract()\n",
    "\n",
    "        # Step 2: Implement te trasformation logic\n",
    "        Iphoneonly = IphoneandAirpodsonly().transform(inputDFs)\n",
    "        print(Iphoneonly)\n",
    "      \n",
    "\n",
    "        #Load all reuquired data to different\n",
    "        IphoneAirpodsOnlyLoader(Iphoneonly).sink()\n"
   ]
  },
  {
   "cell_type": "code",
   "execution_count": 0,
   "metadata": {
    "application/vnd.databricks.v1+cell": {
     "cellMetadata": {
      "byteLimit": 2048000,
      "rowLimit": 10000
     },
     "inputWidgets": {},
     "nuid": "800319da-53ba-4f21-aeee-9d7bbe4bda5d",
     "showTitle": false,
     "tableResultSettingsMap": {},
     "title": ""
    }
   },
   "outputs": [
    {
     "output_type": "stream",
     "name": "stdout",
     "output_type": "stream",
     "text": [
      "+--------------+-----------+------------+----------------+\n|transaction_id|customer_id|product_name|transaction_date|\n+--------------+-----------+------------+----------------+\n|            11|        105|      iPhone|      2022-02-01|\n|            14|        105|     AirPods|      2022-02-04|\n|            18|        105|     MacBook|      2022-02-08|\n|            12|        106|      iPhone|      2022-02-02|\n|            16|        106|     MacBook|      2022-02-06|\n|            20|        106|     AirPods|      2022-02-10|\n|            13|        107|     AirPods|      2022-02-03|\n|            17|        107|      iPhone|      2022-02-07|\n|            15|        108|      iPhone|      2022-02-05|\n|            19|        108|     AirPods|      2022-02-09|\n+--------------+-----------+------------+----------------+\n\n+-----------+--------------------+\n|customer_id|            Products|\n+-----------+--------------------+\n|        107|   [AirPods, iPhone]|\n|        108|   [AirPods, iPhone]|\n|        106|[AirPods, iPhone,...|\n|        105|[AirPods, iPhone,...|\n+-----------+--------------------+\n\n+-----------+-----------------+\n|customer_id|         Products|\n+-----------+-----------------+\n|        107|[AirPods, iPhone]|\n|        108|[AirPods, iPhone]|\n+-----------+-----------------+\n\n+-----------+-----------------+-------------+-------------------+--------+\n|customer_id|         Products|customer_name|          join_date|location|\n+-----------+-----------------+-------------+-------------------+--------+\n|        107|[AirPods, iPhone]|        Grace|2022-03-01 00:00:00|Colorado|\n|        108|[AirPods, iPhone]|        Henry|2022-04-01 00:00:00|    Utah|\n+-----------+-----------------+-------------+-------------------+--------+\n\nDataFrame[customer_id: string, customer_name: string, location: string]\n"
     ]
    }
   ],
   "source": [
    "class WorkFlowRunner:\n",
    "    def __init__(self,name):\n",
    "        self.name=name\n",
    "    def runner(self):\n",
    "        if self.name==\"Workflow1\":\n",
    "            return Workflow1().runner()\n",
    "        elif self.name=='Workflow2':\n",
    "            return Workflow2().runner()\n",
    "\n",
    "\n",
    "name=\"Workflow2\"\n",
    "WorkFlowRunner(name).runner()\n"
   ]
  },
  {
   "cell_type": "code",
   "execution_count": 0,
   "metadata": {
    "application/vnd.databricks.v1+cell": {
     "cellMetadata": {
      "byteLimit": 2048000,
      "rowLimit": 10000
     },
     "inputWidgets": {},
     "nuid": "38770a79-8c84-43d4-a77a-f9e997d74de0",
     "showTitle": false,
     "tableResultSettingsMap": {},
     "title": ""
    }
   },
   "outputs": [],
   "source": [
    "from pyspark.sql import SparkSession\n",
    "\n",
    "spark= SparkSession.builder.appName(\"Apple Data Analysis\").getOrCreate()\n",
    "\n",
    "input_df= spark.read.format('csv').option('header',True).load('dbfs:/FileStore/tables/Customer_Updated.csv')"
   ]
  },
  {
   "cell_type": "code",
   "execution_count": 0,
   "metadata": {
    "application/vnd.databricks.v1+cell": {
     "cellMetadata": {
      "byteLimit": 2048000,
      "rowLimit": 10000
     },
     "inputWidgets": {},
     "nuid": "dcfb76f2-f711-4a2b-a4a6-1db0ba3066e3",
     "showTitle": false,
     "tableResultSettingsMap": {},
     "title": ""
    }
   },
   "outputs": [
    {
     "output_type": "stream",
     "name": "stdout",
     "output_type": "stream",
     "text": [
      "+-----------+-------------+----------+--------+\n|customer_id|customer_name| join_date|location|\n+-----------+-------------+----------+--------+\n|        105|          Eva|2022-01-01|    Ohio|\n|        106|        Frank|2022-02-01|  Nevada|\n|        107|        Grace|2022-03-01|Colorado|\n|        108|        Henry|2022-04-01|    Utah|\n+-----------+-------------+----------+--------+\n\n"
     ]
    }
   ],
   "source": [
    "input_df.show()"
   ]
  },
  {
   "cell_type": "code",
   "execution_count": 0,
   "metadata": {
    "application/vnd.databricks.v1+cell": {
     "cellMetadata": {
      "byteLimit": 2048000,
      "rowLimit": 10000
     },
     "inputWidgets": {},
     "nuid": "9b2f7b1a-7be8-402c-b8fa-5731fa49c5e3",
     "showTitle": false,
     "tableResultSettingsMap": {},
     "title": ""
    }
   },
   "outputs": [
    {
     "output_type": "stream",
     "name": "stdout",
     "output_type": "stream",
     "text": [
      "Out[82]: True"
     ]
    }
   ],
   "source": [
    "dbutils.fs.rm(\"dbfs:/FileStore/output\", recurse=True)\n"
   ]
  },
  {
   "cell_type": "code",
   "execution_count": 0,
   "metadata": {
    "application/vnd.databricks.v1+cell": {
     "cellMetadata": {
      "byteLimit": 2048000,
      "rowLimit": 10000
     },
     "inputWidgets": {},
     "nuid": "24ff8dcb-b6d2-4e84-8698-0b5fe0f7a6ef",
     "showTitle": false,
     "tableResultSettingsMap": {},
     "title": ""
    }
   },
   "outputs": [
    {
     "output_type": "stream",
     "name": "stdout",
     "output_type": "stream",
     "text": [
      "Out[83]: True"
     ]
    }
   ],
   "source": [
    "dbutils.fs.mkdirs(\"dbfs:/FileStore/output\")\n"
   ]
  },
  {
   "cell_type": "code",
   "execution_count": 0,
   "metadata": {
    "application/vnd.databricks.v1+cell": {
     "cellMetadata": {
      "byteLimit": 2048000,
      "rowLimit": 10000
     },
     "inputWidgets": {},
     "nuid": "ab803835-71c0-4efc-8f3c-f17b74ade839",
     "showTitle": false,
     "tableResultSettingsMap": {},
     "title": ""
    }
   },
   "outputs": [
    {
     "output_type": "stream",
     "name": "stdout",
     "output_type": "stream",
     "text": [
      "Out[33]: True"
     ]
    }
   ],
   "source": [
    "dbutils.fs.mkdirs(\"dbfs:/FileStore/IphoneOnly\")"
   ]
  },
  {
   "cell_type": "code",
   "execution_count": 0,
   "metadata": {
    "application/vnd.databricks.v1+cell": {
     "cellMetadata": {
      "byteLimit": 2048000,
      "rowLimit": 10000
     },
     "inputWidgets": {},
     "nuid": "11fa67da-9c4a-4a63-b71a-73a4547c8660",
     "showTitle": false,
     "tableResultSettingsMap": {},
     "title": ""
    }
   },
   "outputs": [
    {
     "output_type": "stream",
     "name": "stdout",
     "output_type": "stream",
     "text": [
      "Out[126]: True"
     ]
    }
   ],
   "source": [
    "dbutils.fs.rm('dbfs:/FileStore/IphoneOnly', recurse=True)"
   ]
  },
  {
   "cell_type": "code",
   "execution_count": 0,
   "metadata": {
    "application/vnd.databricks.v1+cell": {
     "cellMetadata": {
      "byteLimit": 2048000,
      "rowLimit": 10000
     },
     "inputWidgets": {},
     "nuid": "6ce4d34a-e28a-4fe7-8a05-0ab723d124b3",
     "showTitle": false,
     "tableResultSettingsMap": {},
     "title": ""
    }
   },
   "outputs": [
    {
     "output_type": "stream",
     "name": "stdout",
     "output_type": "stream",
     "text": [
      "Out[127]: True"
     ]
    }
   ],
   "source": [
    "dbutils.fs.mkdirs(\"dbfs:/FileStore/IphoneAirpodsOnly\")"
   ]
  },
  {
   "cell_type": "code",
   "execution_count": 0,
   "metadata": {
    "application/vnd.databricks.v1+cell": {
     "cellMetadata": {},
     "inputWidgets": {},
     "nuid": "348cda8d-68a8-4464-9b58-497cd9bc05d5",
     "showTitle": false,
     "tableResultSettingsMap": {},
     "title": ""
    }
   },
   "outputs": [],
   "source": []
  }
 ],
 "metadata": {
  "application/vnd.databricks.v1+notebook": {
   "computePreferences": null,
   "dashboards": [],
   "environmentMetadata": {
    "base_environment": "",
    "environment_version": "1"
   },
   "inputWidgetPreferences": null,
   "language": "python",
   "notebookMetadata": {
    "pythonIndentUnit": 4
   },
   "notebookName": "Apple_Analysis_code",
   "widgets": {}
  }
 },
 "nbformat": 4,
 "nbformat_minor": 0
}
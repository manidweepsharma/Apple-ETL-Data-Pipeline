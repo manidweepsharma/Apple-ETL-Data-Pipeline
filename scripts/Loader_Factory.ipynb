{
 "cells": [
  {
   "cell_type": "code",
   "execution_count": 0,
   "metadata": {
    "application/vnd.databricks.v1+cell": {
     "cellMetadata": {
      "byteLimit": 2048000,
      "rowLimit": 10000
     },
     "inputWidgets": {},
     "nuid": "d5f61e23-7483-4ec2-ad13-627ddbb45b12",
     "showTitle": false,
     "tableResultSettingsMap": {},
     "title": ""
    }
   },
   "outputs": [],
   "source": [
    "class DataSink:\n",
    "    \"\"\"\n",
    "    Abstract Class\n",
    "    \"\"\"\n",
    "    def __init__(self,df,path,method,params):\n",
    "        self.path = path\n",
    "        self.df = df\n",
    "        self.method=method\n",
    "        self.params=params\n",
    "\n",
    "    def load_data_frame(self):\n",
    "        \"\"\"\n",
    "        Abstract method, should be defined in sub-classes\n",
    "        \"\"\"\n",
    "        raise ValueError(\"Not Implemented\")\n",
    "\n",
    "\n",
    "class LoadToDBFS(DataSink):\n",
    "    def load_data_frame(self):\n",
    "        self.df.write.format(\"parquet\").mode(self.method).save(self.path)\n",
    "\n",
    "class LoadToDBFSwithPartition(DataSink):\n",
    "    def load_data_frame(self):\n",
    "        partitionByColumns=self.params.get(\"partitionByColumns\")\n",
    "        self.df.write.format(\"parquet\").mode(self.method).partitionBy(*partitionByColumns).save(self.path)\n",
    "\n",
    "class LoadToDBFSwithDelta(DataSink):\n",
    "    def load_data_frame(self):\n",
    "        self.df.write.format(\"delta\").mode(self.method).saveAsTable(self.path)\n",
    "\n",
    "\n",
    "def get_sink_source(sink_type,df,path,method,params=None):\n",
    "    if sink_type==\"dbfs\":\n",
    "        return LoadToDBFS(df,path,method,params)\n",
    "    elif sink_type==\"dbfs_with_partition\":\n",
    "        return  LoadToDBFSwithPartition(df,path,method,params)\n",
    "    elif sink_type==\"delta\":\n",
    "        return  LoadToDBFSwithDelta(df,path,method,params)\n",
    "    else:\n",
    "        raise ValueError(f'Not Implemented for sink Type:{sink_type}')\n",
    "    \n"
   ]
  },
  {
   "cell_type": "code",
   "execution_count": 0,
   "metadata": {
    "application/vnd.databricks.v1+cell": {
     "cellMetadata": {},
     "inputWidgets": {},
     "nuid": "109c558e-4a73-4a0c-a558-cb74d3830ff4",
     "showTitle": false,
     "tableResultSettingsMap": {},
     "title": ""
    }
   },
   "outputs": [],
   "source": []
  }
 ],
 "metadata": {
  "application/vnd.databricks.v1+notebook": {
   "computePreferences": null,
   "dashboards": [],
   "environmentMetadata": {
    "base_environment": "",
    "environment_version": "1"
   },
   "inputWidgetPreferences": null,
   "language": "python",
   "notebookMetadata": {
    "pythonIndentUnit": 4
   },
   "notebookName": "Loader_Factory",
   "widgets": {}
  }
 },
 "nbformat": 4,
 "nbformat_minor": 0
}
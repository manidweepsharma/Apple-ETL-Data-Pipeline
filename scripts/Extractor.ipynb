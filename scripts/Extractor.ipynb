{
 "cells": [
  {
   "cell_type": "code",
   "execution_count": 0,
   "metadata": {
    "application/vnd.databricks.v1+cell": {
     "cellMetadata": {
      "byteLimit": 2048000,
      "rowLimit": 10000
     },
     "inputWidgets": {},
     "nuid": "2a2a75cc-416a-454b-b102-dffd27178e93",
     "showTitle": false,
     "tableResultSettingsMap": {},
     "title": ""
    }
   },
   "outputs": [],
   "source": [
    "class Extractor:\n",
    "    \"\"\"Abstract Class\n",
    "    \"\"\"\n",
    "    def __init__(self):\n",
    "        pass\n",
    "    def extract(self):\n",
    "        pass\n",
    "\n",
    "class AirpodsAfterIphoneExtractor:\n",
    "    def extract(self):\n",
    "        \"\"\"\n",
    "        Implement the steps  for extracting or reading the data\n",
    "        \"\"\"\n",
    "        transactionInputDF = get_data_source(\n",
    "            data_type='csv',\n",
    "            file_path='dbfs:/FileStore/tables/Transaction_Updated.csv'\n",
    "        ).get_data_frame()\n",
    "\n",
    "        customerDF=get_data_source(\n",
    "            data_type='delta',\n",
    "            file_path='default.customer_updated_csv'\n",
    "        ).get_data_frame()\n",
    "\n",
    "        transactionInputDF.orderBy('customer_id','transaction_date').show()\n",
    "\n",
    "        inputDFs ={\n",
    "            'transactionInputDF': transactionInputDF,\n",
    "            'customerDF':customerDF\n",
    "\n",
    "        }\n",
    "        return  inputDFs\n"
   ]
  },
  {
   "cell_type": "code",
   "execution_count": 0,
   "metadata": {
    "application/vnd.databricks.v1+cell": {
     "cellMetadata": {},
     "inputWidgets": {},
     "nuid": "178d12b0-acf6-4dbf-a206-3cbcf3b4eb1d",
     "showTitle": false,
     "tableResultSettingsMap": {},
     "title": ""
    }
   },
   "outputs": [],
   "source": []
  }
 ],
 "metadata": {
  "application/vnd.databricks.v1+notebook": {
   "computePreferences": null,
   "dashboards": [],
   "environmentMetadata": {
    "base_environment": "",
    "environment_version": "1"
   },
   "inputWidgetPreferences": null,
   "language": "python",
   "notebookMetadata": {
    "pythonIndentUnit": 4
   },
   "notebookName": "Extractor",
   "widgets": {}
  }
 },
 "nbformat": 4,
 "nbformat_minor": 0
}
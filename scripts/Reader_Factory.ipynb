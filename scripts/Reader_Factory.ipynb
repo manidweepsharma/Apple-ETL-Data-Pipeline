{
 "cells": [
  {
   "cell_type": "code",
   "execution_count": 0,
   "metadata": {
    "application/vnd.databricks.v1+cell": {
     "cellMetadata": {
      "byteLimit": 2048000,
      "rowLimit": 10000
     },
     "inputWidgets": {},
     "nuid": "1e7b7303-75ea-4533-86f0-5516de5441d4",
     "showTitle": false,
     "tableResultSettingsMap": {},
     "title": ""
    }
   },
   "outputs": [],
   "source": [
    "class DataSource:\n",
    "    \"\"\"\n",
    "    Abstract Class\n",
    "    \"\"\"\n",
    "    def __init__(self, path):\n",
    "        self.path = path\n",
    "\n",
    "    def get_data_frame(self):\n",
    "        \"\"\"\n",
    "        Abstract method, should be defined in sub-classes\n",
    "        \"\"\"\n",
    "        raise NotImplementedError(\"Not Implemented\")\n",
    "\n",
    "\n",
    "class CSVDataSource(DataSource):\n",
    "    def __init__(self, path):\n",
    "        super().__init__(path)\n",
    "\n",
    "    def get_data_frame(self):\n",
    "        table_name=self.path\n",
    "        return spark.read.format('csv').option('header', True).load(table_name)\n",
    "\n",
    "\n",
    "class ParquetDataSource(DataSource):\n",
    "    def __init__(self, path):\n",
    "        super().__init__(path)\n",
    "\n",
    "    def get_data_frame(self):\n",
    "        table_name=self.path\n",
    "        return spark.read.format('parquet').load(table_name)\n",
    "\n",
    "\n",
    "class DeltaDataSource(DataSource):\n",
    "    def __init__(self, path):\n",
    "        super().__init__(path)\n",
    "\n",
    "    def get_data_frame(self):\n",
    "        # Check if the path is an absolute path (file/folder) or a table name\n",
    "        if (\n",
    "            self.path.startswith(\"/\") or\n",
    "            self.path.startswith(\"dbfs:\") or\n",
    "            self.path.startswith(\"s3://\") or\n",
    "            self.path.startswith(\"wasbs://\")\n",
    "        ):\n",
    "            return spark.read.format('delta').load(self.path)\n",
    "        else:\n",
    "            # Treat as table name\n",
    "            return spark.table(self.path)\n",
    "\n",
    "\n",
    "def get_data_source(data_type, file_path):\n",
    "    if data_type == 'csv':\n",
    "        return CSVDataSource(file_path)\n",
    "    elif data_type == 'parquet':\n",
    "        return ParquetDataSource(file_path)\n",
    "    elif data_type == 'delta':\n",
    "        return DeltaDataSource(file_path)\n",
    "    else:\n",
    "        raise ValueError(f'Not Implemented for Data Type: {data_type}')\n"
   ]
  },
  {
   "cell_type": "code",
   "execution_count": 0,
   "metadata": {
    "application/vnd.databricks.v1+cell": {
     "cellMetadata": {},
     "inputWidgets": {},
     "nuid": "43f1dd21-ca47-4a25-9423-fb7e7fee67d5",
     "showTitle": false,
     "tableResultSettingsMap": {},
     "title": ""
    }
   },
   "outputs": [],
   "source": []
  }
 ],
 "metadata": {
  "application/vnd.databricks.v1+notebook": {
   "computePreferences": null,
   "dashboards": [],
   "environmentMetadata": {
    "base_environment": "",
    "environment_version": "1"
   },
   "inputWidgetPreferences": null,
   "language": "python",
   "notebookMetadata": {
    "pythonIndentUnit": 4
   },
   "notebookName": "Reader_Factory",
   "widgets": {}
  }
 },
 "nbformat": 4,
 "nbformat_minor": 0
}
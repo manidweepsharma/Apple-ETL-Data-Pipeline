{
 "cells": [
  {
   "cell_type": "code",
   "execution_count": 0,
   "metadata": {
    "application/vnd.databricks.v1+cell": {
     "cellMetadata": {
      "byteLimit": 2048000,
      "rowLimit": 10000
     },
     "inputWidgets": {},
     "nuid": "00c3cb93-1891-48ec-b21f-17e36f35bd31",
     "showTitle": false,
     "tableResultSettingsMap": {},
     "title": ""
    }
   },
   "outputs": [],
   "source": [
    "from pyspark.sql.window import Window\n",
    "from pyspark.sql.functions import lead,col,broadcast,col, array_contains, size\n",
    "class Transformer:\n",
    "    def __init__(self):\n",
    "        pass\n",
    "    def transform(self):\n",
    "        pass\n",
    "\n",
    "class AirpodsAfterIphone(Transformer):\n",
    "    def transform(self,inputDFs):\n",
    "        \"\"\"\n",
    "         Customers who have bought Airpods after buying the iphone\n",
    "        \"\"\"\n",
    "\n",
    "        transactionInputDF = inputDFs.get('transactionInputDF')\n",
    "\n",
    "        customerDF=inputDFs.get('customerDF')\n",
    "        #print('transactionInputDF in transform')\n",
    "\n",
    "        windowSpec= Window.partitionBy('customer_id').orderBy('transaction_date')\n",
    "        transformedInputDF = transactionInputDF.withColumn('next_product',lead('product_name').over(windowSpec))\n",
    "        print('Airpods after buying')\n",
    "        #transformedInputDF.orderBy('customer_id','transaction_date','product_name').show()\n",
    "\n",
    "        filteredDF=transformedInputDF.filter((col('product_name') == 'iPhone') & (col('next_product')=='AirPods'))\n",
    "        #fitleredDF.orderBy('customer_id','transaction_date','product_name').show()\n",
    "\n",
    "        joinDF = filteredDF.join(broadcast(customerDF), filteredDF.customer_id == customerDF.customer_id, \"inner\") \\\n",
    "                   .drop(customerDF.customer_id)\n",
    "        finalDf=joinDF.orderBy('customer_id', 'transaction_date', 'product_name')\n",
    "        return finalDf\n",
    "\n",
    "class IphoneandAirpodsonly(Transformer):\n",
    "    def transform(self,inputDFs):\n",
    "        \"\"\"\n",
    "         Customers who have bought Airpods after buying the iphone\n",
    "        \"\"\"\n",
    "\n",
    "        transactionInputDF = inputDFs.get('transactionInputDF')\n",
    "\n",
    "        customerDF=inputDFs.get('customerDF')\n",
    "\n",
    "        groupedDF= transactionInputDF.groupBy('customer_id').agg(collect_set('product_name').alias('Products'))\n",
    "        groupedDF.show()\n",
    "\n",
    "        filteredDF = groupedDF.filter(\n",
    "            array_contains(col('Products'), 'iPhone') &\n",
    "            array_contains(col('Products'), 'AirPods') &\n",
    "            (size(col('Products')) == 2)\n",
    "            )\n",
    "\n",
    "        filteredDF.show()\n",
    "        #fitleredDF.orderBy('customer_id','transaction_date','product_name').show()\n",
    "\n",
    "        joinDF = filteredDF.join(broadcast(customerDF),\n",
    "                                 'customer_id',\"inner\")\n",
    "        joinDF.show()\n",
    "\n",
    "        finalDf=joinDF.select('customer_id', 'customer_name', 'location')\n",
    "        return finalDf\n",
    "\n",
    "\n",
    "\n"
   ]
  },
  {
   "cell_type": "code",
   "execution_count": 0,
   "metadata": {
    "application/vnd.databricks.v1+cell": {
     "cellMetadata": {},
     "inputWidgets": {},
     "nuid": "63d6a4e7-b0aa-45ec-b080-f8ee96513baa",
     "showTitle": false,
     "tableResultSettingsMap": {},
     "title": ""
    }
   },
   "outputs": [],
   "source": []
  }
 ],
 "metadata": {
  "application/vnd.databricks.v1+notebook": {
   "computePreferences": null,
   "dashboards": [],
   "environmentMetadata": {
    "base_environment": "",
    "environment_version": "1"
   },
   "inputWidgetPreferences": null,
   "language": "python",
   "notebookMetadata": {
    "pythonIndentUnit": 4
   },
   "notebookName": "Transform",
   "widgets": {}
  }
 },
 "nbformat": 4,
 "nbformat_minor": 0
}
{
 "cells": [
  {
   "cell_type": "code",
   "execution_count": 0,
   "metadata": {
    "application/vnd.databricks.v1+cell": {
     "cellMetadata": {
      "byteLimit": 2048000,
      "rowLimit": 10000
     },
     "inputWidgets": {},
     "nuid": "ec4aef4b-06a7-4915-8826-2f3b981d7958",
     "showTitle": false,
     "tableResultSettingsMap": {},
     "title": ""
    }
   },
   "outputs": [],
   "source": [
    "%run \"./Loader_Factory\""
   ]
  },
  {
   "cell_type": "code",
   "execution_count": 0,
   "metadata": {
    "application/vnd.databricks.v1+cell": {
     "cellMetadata": {
      "byteLimit": 2048000,
      "rowLimit": 10000
     },
     "inputWidgets": {},
     "nuid": "4c50dc41-5f98-4259-9e19-37f4f09578f4",
     "showTitle": false,
     "tableResultSettingsMap": {},
     "title": ""
    }
   },
   "outputs": [],
   "source": [
    "class AbstractLoader:\n",
    "    def __init__(self,transformedDF):\n",
    "        self.transformedDF=transformedDF\n",
    "        \n",
    "\n",
    "    def sink(self):\n",
    "        pass\n",
    "        \n",
    "\n",
    "class AirPodsAfterIphoneLoader(AbstractLoader):\n",
    "\n",
    "    def sink(self):\n",
    "        get_sink_source(\n",
    "            sink_type=\"dbfs\",\n",
    "            df=self.transformedDF,\n",
    "            path=\"dbfs:/FileStore/output\",\n",
    "            method=\"overwrite\"\n",
    "        ).load_data_frame()\n",
    "\n",
    "class IphoneAirpodsOnlyLoader(AbstractLoader):\n",
    "\n",
    "    def sink(self):\n",
    "        params={\n",
    "            'partitionByColumns' :['location']\n",
    "        }\n",
    "        get_sink_source(\n",
    "            sink_type=\"dbfs_with_partition\",\n",
    "            df=self.transformedDF,\n",
    "            path=\"dbfs:/FileStore/IphoneAirpodsOnly\",\n",
    "            method=\"overwrite\",\n",
    "            params=params\n",
    "        ).load_data_frame()\n",
    "\n",
    "        get_sink_source(\n",
    "            sink_type=\"delta\",\n",
    "            df=self.transformedDF,\n",
    "            path=\"default.onlyAirpodsAndIphone\",\n",
    "            method=\"overwrite\"\n",
    "        ).load_data_frame()\n",
    "\n",
    "\n"
   ]
  },
  {
   "cell_type": "code",
   "execution_count": 0,
   "metadata": {
    "application/vnd.databricks.v1+cell": {
     "cellMetadata": {},
     "inputWidgets": {},
     "nuid": "f901904a-ca00-48c3-8c04-effb90f85715",
     "showTitle": false,
     "tableResultSettingsMap": {},
     "title": ""
    }
   },
   "outputs": [],
   "source": []
  }
 ],
 "metadata": {
  "application/vnd.databricks.v1+notebook": {
   "computePreferences": null,
   "dashboards": [],
   "environmentMetadata": {
    "base_environment": "",
    "environment_version": "1"
   },
   "inputWidgetPreferences": null,
   "language": "python",
   "notebookMetadata": {
    "pythonIndentUnit": 4
   },
   "notebookName": "Loader",
   "widgets": {}
  }
 },
 "nbformat": 4,
 "nbformat_minor": 0
}